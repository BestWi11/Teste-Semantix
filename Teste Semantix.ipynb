{
 "cells": [
  {
   "cell_type": "markdown",
   "metadata": {},
   "source": [
    "### Canditado:  William Henrique de Oliveira"
   ]
  },
  {
   "cell_type": "markdown",
   "metadata": {},
   "source": [
    "### Semantix\n",
    "\n",
    "### Teste que será usado para saber a proficiência nas habilidades para a vaga. \n",
    "### O teste consiste em algumas perguntas e exercícios práticos sobre Spark \n",
    "### e as respostas e códigos implementados devem ser armazenados no GitHub. \n",
    "### O link do repositório deve ser compartilhado conosco ao final do teste."
   ]
  },
  {
   "cell_type": "markdown",
   "metadata": {},
   "source": [
    "### Perguntas"
   ]
  },
  {
   "cell_type": "code",
   "execution_count": 1,
   "metadata": {},
   "outputs": [
    {
     "name": "stdout",
     "output_type": "stream",
     "text": [
      "Qual o objetivo do comando cache em Spark?\n",
      "\n",
      "R: Esse processo otimiza a performance.\n"
     ]
    }
   ],
   "source": [
    "print('Qual o objetivo do comando cache em Spark?\\n')\n",
    "print('R: Esse processo otimiza a performance.')"
   ]
  },
  {
   "cell_type": "code",
   "execution_count": 2,
   "metadata": {},
   "outputs": [
    {
     "name": "stdout",
     "output_type": "stream",
     "text": [
      "O mesmo código implementado em Spark é normalmente mais rápido que a implementação equivalente em MapReduce. Por quê?\n",
      "\n",
      "R: No caso do MapReduce ele processa a informação e grava o resultado em disco e fica nesse loop até terminar o processo, o problema é que é em disco requer muito processo computacional, em contra partida o Spark faz a leitura realiza a computação iterativa e grava o resultado em cache de memória essa é a grande diferença, ler da memória é muito mais rápido do que ler do disco.\n"
     ]
    }
   ],
   "source": [
    "print('O mesmo código implementado em Spark é normalmente mais rápido que a implementação equivalente em MapReduce. Por quê?\\n')\n",
    "print('R: No caso do MapReduce ele processa a informação e grava o resultado em disco e fica nesse loop até terminar o processo, o problema é que é em disco requer muito processo computacional, em contra partida o Spark faz a leitura realiza a computação iterativa e grava o resultado em cache de memória essa é a grande diferença, ler da memória é muito mais rápido do que ler do disco.')\n"
   ]
  },
  {
   "cell_type": "code",
   "execution_count": 3,
   "metadata": {},
   "outputs": [
    {
     "name": "stdout",
     "output_type": "stream",
     "text": [
      "Qual é a função do SparkContext ?\n",
      "\n",
      "R: É um contexto local ou em cluster de computadores, é basicamente uma espécie de cliente que estabelece a conexão com o ambiente de execução do Spark e age como o processo principal da sua aplicação.\n"
     ]
    }
   ],
   "source": [
    "print('Qual é a função do SparkContext ?\\n')\n",
    "print('R: É um contexto local ou em cluster de computadores, é basicamente uma espécie de cliente que estabelece a conexão com o ambiente de execução do Spark e age como o processo principal da sua aplicação.')"
   ]
  },
  {
   "cell_type": "code",
   "execution_count": 4,
   "metadata": {},
   "outputs": [
    {
     "name": "stdout",
     "output_type": "stream",
     "text": [
      "Explique com suas palavras o que é Resilient Distributed Datasets (RDD)?\n",
      "\n",
      "R: É uma coleção de objetos, distribuída e imutável, cada conjunto de dado no RDD´s é dividido em partições logicas, que podem ser computadas em diferentes nodes de cluster, RDD´s podem ser criadas a partir do Hadoop (arquivos no HDFS), através da transformação de outros RDD´s, a partir de banco de dados (relacionais e não-relacionais) ou a partir de arquivos locais.\n"
     ]
    }
   ],
   "source": [
    "print('Explique com suas palavras o que é Resilient Distributed Datasets (RDD)?\\n')\n",
    "print('R: É uma coleção de objetos, distribuída e imutável, cada conjunto de dado no RDD´s é dividido em partições logicas, que podem ser computadas em diferentes nodes de cluster, RDD´s podem ser criadas a partir do Hadoop (arquivos no HDFS), através da transformação de outros RDD´s, a partir de banco de dados (relacionais e não-relacionais) ou a partir de arquivos locais.')"
   ]
  },
  {
   "cell_type": "code",
   "execution_count": 5,
   "metadata": {},
   "outputs": [
    {
     "name": "stdout",
     "output_type": "stream",
     "text": [
      "GroupByKey é menos eficiente que reduceByKey em grandes dataset. Por quê?\n",
      "\n",
      "R: groupByKey \n",
      "Quando chamado em um conjunto de dados de pares (K, V), retorna um conjunto de dados de pares (K, iteração<V>).Nota: Se você estiver agrupando para executar uma agregação (como uma soma ou média) sobre cada chave, usar reduceByKey ou aggregateByKey produzirá um desempenho muito melhor.Nota: Por padrão, o nível de paralelismo na saída depende do número de partições do RDD pai. Você pode passar um argumento opcional numPartitions para definir um número diferente de tarefas.\n",
      "\n",
      "reduceByKey\n",
      "Quando chamado em um conjunto de dados de pares (K, V), retorna um conjunto de dados de pares (K, V) onde os valores para cada chave são agregados usando a função function reduce reduzida, que deve ser do tipo (V, V) => V. Como em groupByKey, o número de tarefas reduzidas é configurável através de um segundo argumento opcional.\n",
      "\n",
      "Referencia : http://spark.apache.org/docs/latest/rdd-programming-guide.html#transformations\n",
      "\n",
      "goupByKey agrupa por chave e valor em comjunto de pares apenas uma vez\n",
      " enquanto reduceByKey faz o agrupamento por chave e valor varias vezes até chegar em um numero reduzido \n"
     ]
    }
   ],
   "source": [
    "print('GroupByKey é menos eficiente que reduceByKey em grandes dataset. Por quê?\\n')\n",
    "print('R: groupByKey \\nQuando chamado em um conjunto de dados de pares (K, V), retorna um conjunto de dados de pares (K, iteração<V>).Nota: Se você estiver agrupando para executar uma agregação (como uma soma ou média) sobre cada chave, usar reduceByKey ou aggregateByKey produzirá um desempenho muito melhor.Nota: Por padrão, o nível de paralelismo na saída depende do número de partições do RDD pai. Você pode passar um argumento opcional numPartitions para definir um número diferente de tarefas.\\n\\nreduceByKey\\nQuando chamado em um conjunto de dados de pares (K, V), retorna um conjunto de dados de pares (K, V) onde os valores para cada chave são agregados usando a função function reduce reduzida, que deve ser do tipo (V, V) => V. Como em groupByKey, o número de tarefas reduzidas é configurável através de um segundo argumento opcional.\\n\\nReferencia : http://spark.apache.org/docs/latest/rdd-programming-guide.html#transformations\\n')\n",
    "print('goupByKey agrupa por chave e valor em comjunto de pares apenas uma vez\\n enquanto reduceByKey faz o agrupamento por chave e valor varias vezes até chegar em um numero reduzido ')"
   ]
  },
  {
   "cell_type": "code",
   "execution_count": 6,
   "metadata": {},
   "outputs": [
    {
     "name": "stdout",
     "output_type": "stream",
     "text": [
      "Explique o que o código Scala abaixo faz ?\n"
     ]
    }
   ],
   "source": [
    "print('Explique o que o código Scala abaixo faz ?')"
   ]
  },
  {
   "cell_type": "code",
   "execution_count": 7,
   "metadata": {},
   "outputs": [
    {
     "data": {
      "image/png": "[encoded data removed]",
      "text/plain": [
       "<IPython.core.display.Image object>"
      ]
     },
     "execution_count": 7,
     "metadata": {},
     "output_type": "execute_result"
    }
   ],
   "source": [
    "from IPython.display import Image\n",
    "Image(\"Capturar.PNG\")"
   ]
  },
  {
   "cell_type": "code",
   "execution_count": 8,
   "metadata": {},
   "outputs": [
    {
     "name": "stdout",
     "output_type": "stream",
     "text": [
      "Lê um arquivo\n",
      " faz a quebra de linha por espaço\n",
      " aplica um mapeamento e redução,\n",
      " e salva o arquivo\n"
     ]
    }
   ],
   "source": [
    "print('Lê um arquivo\\n faz a quebra de linha por espaço\\n aplica um mapeamento e redução,\\n e salva o arquivo')"
   ]
  },
  {
   "cell_type": "code",
   "execution_count": 9,
   "metadata": {},
   "outputs": [],
   "source": [
    "# Spark Session - usada quando se trabalha com Dataframes no Spark\n",
    "spSession = SparkSession.builder.master(\"local\").appName(\"Teste-Semantix\").getOrCreate()"
   ]
  },
  {
   "cell_type": "code",
   "execution_count": 10,
   "metadata": {},
   "outputs": [],
   "source": [
    "# Carregando os dados e gerando um RDD\n",
    "JulRDD = sc.textFile(\"access_log_Jul95\")"
   ]
  },
  {
   "cell_type": "code",
   "execution_count": 11,
   "metadata": {},
   "outputs": [],
   "source": [
    "# Carregando os dados e gerando um RDD\n",
    "AugRDD = sc.textFile(\"access_log_Aug95\")"
   ]
  },
  {
   "cell_type": "code",
   "execution_count": 12,
   "metadata": {},
   "outputs": [
    {
     "data": {
      "text/plain": [
       "access_log_Aug95 MapPartitionsRDD[3] at textFile at NativeMethodAccessorImpl.java:0"
      ]
     },
     "execution_count": 12,
     "metadata": {},
     "output_type": "execute_result"
    }
   ],
   "source": [
    "# Colocando o RDD em cache. Esse processo otimiza a performance.\n",
    "JulRDD.cache();AugRDD.cache()"
   ]
  },
  {
   "cell_type": "code",
   "execution_count": 13,
   "metadata": {},
   "outputs": [
    {
     "data": {
      "text/plain": [
       "1891715"
      ]
     },
     "execution_count": 13,
     "metadata": {},
     "output_type": "execute_result"
    }
   ],
   "source": [
    "# contando quantas linhas tem o arquivo\n",
    "JulRDD.count()"
   ]
  },
  {
   "cell_type": "code",
   "execution_count": 14,
   "metadata": {},
   "outputs": [
    {
     "data": {
      "text/plain": [
       "1569898"
      ]
     },
     "execution_count": 14,
     "metadata": {},
     "output_type": "execute_result"
    }
   ],
   "source": [
    "# contando quantas linhas tem o arquivo\n",
    "AugRDD.count()"
   ]
  },
  {
   "cell_type": "code",
   "execution_count": 15,
   "metadata": {},
   "outputs": [
    {
     "data": {
      "text/plain": [
       "['199.72.81.55 - - [01/Jul/1995:00:00:01 -0400] \"GET /history/apollo/ HTTP/1.0\" 200 6245',\n",
       " 'unicomp6.unicomp.net - - [01/Jul/1995:00:00:06 -0400] \"GET /shuttle/countdown/ HTTP/1.0\" 200 3985',\n",
       " '199.120.110.21 - - [01/Jul/1995:00:00:09 -0400] \"GET /shuttle/missions/sts-73/mission-sts-73.html HTTP/1.0\" 200 4085',\n",
       " 'burger.letters.com - - [01/Jul/1995:00:00:11 -0400] \"GET /shuttle/countdown/liftoff.html HTTP/1.0\" 304 0',\n",
       " '199.120.110.21 - - [01/Jul/1995:00:00:11 -0400] \"GET /shuttle/missions/sts-73/sts-73-patch-small.gif HTTP/1.0\" 200 4179',\n",
       " 'burger.letters.com - - [01/Jul/1995:00:00:12 -0400] \"GET /images/NASA-logosmall.gif HTTP/1.0\" 304 0',\n",
       " 'burger.letters.com - - [01/Jul/1995:00:00:12 -0400] \"GET /shuttle/countdown/video/livevideo.gif HTTP/1.0\" 200 0',\n",
       " '205.212.115.106 - - [01/Jul/1995:00:00:12 -0400] \"GET /shuttle/countdown/countdown.html HTTP/1.0\" 200 3985',\n",
       " 'd104.aa.net - - [01/Jul/1995:00:00:13 -0400] \"GET /shuttle/countdown/ HTTP/1.0\" 200 3985',\n",
       " '129.94.144.152 - - [01/Jul/1995:00:00:13 -0400] \"GET / HTTP/1.0\" 200 7074']"
      ]
     },
     "execution_count": 15,
     "metadata": {},
     "output_type": "execute_result"
    }
   ],
   "source": [
    "# amostra das 10 primeiras linhas\n",
    "JulRDD.take(10)"
   ]
  },
  {
   "cell_type": "code",
   "execution_count": 16,
   "metadata": {},
   "outputs": [
    {
     "data": {
      "text/plain": [
       "['in24.inetnebr.com - - [01/Aug/1995:00:00:01 -0400] \"GET /shuttle/missions/sts-68/news/sts-68-mcc-05.txt HTTP/1.0\" 200 1839',\n",
       " 'uplherc.upl.com - - [01/Aug/1995:00:00:07 -0400] \"GET / HTTP/1.0\" 304 0',\n",
       " 'uplherc.upl.com - - [01/Aug/1995:00:00:08 -0400] \"GET /images/ksclogo-medium.gif HTTP/1.0\" 304 0',\n",
       " 'uplherc.upl.com - - [01/Aug/1995:00:00:08 -0400] \"GET /images/MOSAIC-logosmall.gif HTTP/1.0\" 304 0',\n",
       " 'uplherc.upl.com - - [01/Aug/1995:00:00:08 -0400] \"GET /images/USA-logosmall.gif HTTP/1.0\" 304 0',\n",
       " 'ix-esc-ca2-07.ix.netcom.com - - [01/Aug/1995:00:00:09 -0400] \"GET /images/launch-logo.gif HTTP/1.0\" 200 1713',\n",
       " 'uplherc.upl.com - - [01/Aug/1995:00:00:10 -0400] \"GET /images/WORLD-logosmall.gif HTTP/1.0\" 304 0',\n",
       " 'slppp6.intermind.net - - [01/Aug/1995:00:00:10 -0400] \"GET /history/skylab/skylab.html HTTP/1.0\" 200 1687',\n",
       " 'piweba4y.prodigy.com - - [01/Aug/1995:00:00:10 -0400] \"GET /images/launchmedium.gif HTTP/1.0\" 200 11853',\n",
       " 'slppp6.intermind.net - - [01/Aug/1995:00:00:11 -0400] \"GET /history/skylab/skylab-small.gif HTTP/1.0\" 200 9202']"
      ]
     },
     "execution_count": 16,
     "metadata": {},
     "output_type": "execute_result"
    }
   ],
   "source": [
    "# amostra das 10 primeiras linhas\n",
    "AugRDD.take(10)"
   ]
  },
  {
   "cell_type": "code",
   "execution_count": 17,
   "metadata": {},
   "outputs": [
    {
     "data": {
      "text/plain": [
       "['199.72.81.55;[01/Jul/1995:00:00:01 -0400] \"GET /history/apollo/ HTTP/1.0\" 200 6245',\n",
       " 'unicomp6.unicomp.net;[01/Jul/1995:00:00:06 -0400] \"GET /shuttle/countdown/ HTTP/1.0\" 200 3985',\n",
       " '199.120.110.21;[01/Jul/1995:00:00:09 -0400] \"GET /shuttle/missions/sts-73/mission-sts-73.html HTTP/1.0\" 200 4085',\n",
       " 'burger.letters.com;[01/Jul/1995:00:00:11 -0400] \"GET /shuttle/countdown/liftoff.html HTTP/1.0\" 304 0',\n",
       " '199.120.110.21;[01/Jul/1995:00:00:11 -0400] \"GET /shuttle/missions/sts-73/sts-73-patch-small.gif HTTP/1.0\" 200 4179',\n",
       " 'burger.letters.com;[01/Jul/1995:00:00:12 -0400] \"GET /images/NASA-logosmall.gif HTTP/1.0\" 304 0',\n",
       " 'burger.letters.com;[01/Jul/1995:00:00:12 -0400] \"GET /shuttle/countdown/video/livevideo.gif HTTP/1.0\" 200 0',\n",
       " '205.212.115.106;[01/Jul/1995:00:00:12 -0400] \"GET /shuttle/countdown/countdown.html HTTP/1.0\" 200 3985',\n",
       " 'd104.aa.net;[01/Jul/1995:00:00:13 -0400] \"GET /shuttle/countdown/ HTTP/1.0\" 200 3985',\n",
       " '129.94.144.152;[01/Jul/1995:00:00:13 -0400] \"GET / HTTP/1.0\" 200 7074']"
      ]
     },
     "execution_count": 17,
     "metadata": {},
     "output_type": "execute_result"
    }
   ],
   "source": [
    "# encontrando um padrão para separar os atributos e colocando um separador\n",
    "JulRDD2 = JulRDD.map(lambda x: x.replace (\" - - \",\";\"))\n",
    "JulRDD2.take(10)"
   ]
  },
  {
   "cell_type": "code",
   "execution_count": 18,
   "metadata": {},
   "outputs": [
    {
     "data": {
      "text/plain": [
       "['199.72.81.55;[01/Jul/1995:00:00:01 -0400];\"GET /history/apollo/ HTTP/1.0\" 200 6245',\n",
       " 'unicomp6.unicomp.net;[01/Jul/1995:00:00:06 -0400];\"GET /shuttle/countdown/ HTTP/1.0\" 200 3985',\n",
       " '199.120.110.21;[01/Jul/1995:00:00:09 -0400];\"GET /shuttle/missions/sts-73/mission-sts-73.html HTTP/1.0\" 200 4085',\n",
       " 'burger.letters.com;[01/Jul/1995:00:00:11 -0400];\"GET /shuttle/countdown/liftoff.html HTTP/1.0\" 304 0',\n",
       " '199.120.110.21;[01/Jul/1995:00:00:11 -0400];\"GET /shuttle/missions/sts-73/sts-73-patch-small.gif HTTP/1.0\" 200 4179',\n",
       " 'burger.letters.com;[01/Jul/1995:00:00:12 -0400];\"GET /images/NASA-logosmall.gif HTTP/1.0\" 304 0',\n",
       " 'burger.letters.com;[01/Jul/1995:00:00:12 -0400];\"GET /shuttle/countdown/video/livevideo.gif HTTP/1.0\" 200 0',\n",
       " '205.212.115.106;[01/Jul/1995:00:00:12 -0400];\"GET /shuttle/countdown/countdown.html HTTP/1.0\" 200 3985',\n",
       " 'd104.aa.net;[01/Jul/1995:00:00:13 -0400];\"GET /shuttle/countdown/ HTTP/1.0\" 200 3985',\n",
       " '129.94.144.152;[01/Jul/1995:00:00:13 -0400];\"GET / HTTP/1.0\" 200 7074']"
      ]
     },
     "execution_count": 18,
     "metadata": {},
     "output_type": "execute_result"
    }
   ],
   "source": [
    "# encontrando um padrão para separar os atributos e colocando um separador\n",
    "JulRDD3 = JulRDD2.map(lambda x: x.replace (\"] \",\"];\"))\n",
    "JulRDD3.take(10)"
   ]
  },
  {
   "cell_type": "code",
   "execution_count": 19,
   "metadata": {},
   "outputs": [
    {
     "data": {
      "text/plain": [
       "['199.72.81.55;[01/Jul/1995:00:00:01 -0400];\"GET /history/apollo/ HTTP/1.0\";200 6245',\n",
       " 'unicomp6.unicomp.net;[01/Jul/1995:00:00:06 -0400];\"GET /shuttle/countdown/ HTTP/1.0\";200 3985',\n",
       " '199.120.110.21;[01/Jul/1995:00:00:09 -0400];\"GET /shuttle/missions/sts-73/mission-sts-73.html HTTP/1.0\";200 4085',\n",
       " 'burger.letters.com;[01/Jul/1995:00:00:11 -0400];\"GET /shuttle/countdown/liftoff.html HTTP/1.0\";304 0',\n",
       " '199.120.110.21;[01/Jul/1995:00:00:11 -0400];\"GET /shuttle/missions/sts-73/sts-73-patch-small.gif HTTP/1.0\";200 4179',\n",
       " 'burger.letters.com;[01/Jul/1995:00:00:12 -0400];\"GET /images/NASA-logosmall.gif HTTP/1.0\";304 0',\n",
       " 'burger.letters.com;[01/Jul/1995:00:00:12 -0400];\"GET /shuttle/countdown/video/livevideo.gif HTTP/1.0\";200 0',\n",
       " '205.212.115.106;[01/Jul/1995:00:00:12 -0400];\"GET /shuttle/countdown/countdown.html HTTP/1.0\";200 3985',\n",
       " 'd104.aa.net;[01/Jul/1995:00:00:13 -0400];\"GET /shuttle/countdown/ HTTP/1.0\";200 3985',\n",
       " '129.94.144.152;[01/Jul/1995:00:00:13 -0400];\"GET / HTTP/1.0\";200 7074']"
      ]
     },
     "execution_count": 19,
     "metadata": {},
     "output_type": "execute_result"
    }
   ],
   "source": [
    "# encontrando um padrão para separar os atributos e colocando um separador\n",
    "JulRDD4 = JulRDD3.map(lambda x: x.replace ('\" ','\";'))\n",
    "JulRDD4.take(10)"
   ]
  },
  {
   "cell_type": "code",
   "execution_count": 20,
   "metadata": {},
   "outputs": [
    {
     "data": {
      "text/plain": [
       "['199.72.81.55;[01/Jul/1995:00:00:01 -0400];\"GET /history/apollo/ HTTP/1.0\";200 6245',\n",
       " 'unicomp6.unicomp.net;[01/Jul/1995:00:00:06 -0400];\"GET /shuttle/countdown/ HTTP/1.0\";200 3985',\n",
       " '199.120.110.21;[01/Jul/1995:00:00:09 -0400];\"GET /shuttle/missions/sts-73/mission-sts-73.html HTTP/1.0\";200 4085',\n",
       " 'burger.letters.com;[01/Jul/1995:00:00:11 -0400];\"GET /shuttle/countdown/liftoff.html HTTP/1.0\";304 0',\n",
       " '199.120.110.21;[01/Jul/1995:00:00:11 -0400];\"GET /shuttle/missions/sts-73/sts-73-patch-small.gif HTTP/1.0\";200 4179',\n",
       " 'burger.letters.com;[01/Jul/1995:00:00:12 -0400];\"GET /images/NASA-logosmall.gif HTTP/1.0\";304 0',\n",
       " 'burger.letters.com;[01/Jul/1995:00:00:12 -0400];\"GET /shuttle/countdown/video/livevideo.gif HTTP/1.0\";200 0',\n",
       " '205.212.115.106;[01/Jul/1995:00:00:12 -0400];\"GET /shuttle/countdown/countdown.html HTTP/1.0\";200 3985',\n",
       " 'd104.aa.net;[01/Jul/1995:00:00:13 -0400];\"GET /shuttle/countdown/ HTTP/1.0\";200 3985',\n",
       " '129.94.144.152;[01/Jul/1995:00:00:13 -0400];\"GET / HTTP/1.0\";200 7074']"
      ]
     },
     "execution_count": 20,
     "metadata": {},
     "output_type": "execute_result"
    }
   ],
   "source": [
    "# encontrando um padrão para separar os atributos e colocando um separador\n",
    "JulRDD5 = JulRDD4.map(lambda x: x.replace ('404 -','404;'))\n",
    "JulRDD5.take(10)"
   ]
  },
  {
   "cell_type": "code",
   "execution_count": 21,
   "metadata": {},
   "outputs": [
    {
     "data": {
      "text/plain": [
       "['199.72.81.55;[01/Jul/1995:00:00:01 -0400];\"GET /history/apollo/ HTTP/1.0\";200 6245',\n",
       " 'unicomp6.unicomp.net;[01/Jul/1995:00:00:06 -0400];\"GET /shuttle/countdown/ HTTP/1.0\";200 3985',\n",
       " '199.120.110.21;[01/Jul/1995:00:00:09 -0400];\"GET /shuttle/missions/sts-73/mission-sts-73.html HTTP/1.0\";200 4085',\n",
       " 'burger.letters.com;[01/Jul/1995:00:00:11 -0400];\"GET /shuttle/countdown/liftoff.html HTTP/1.0\";304;0',\n",
       " '199.120.110.21;[01/Jul/1995:00:00:11 -0400];\"GET /shuttle/missions/sts-73/sts-73-patch-small.gif HTTP/1.0\";200 4179',\n",
       " 'burger.letters.com;[01/Jul/1995:00:00:12 -0400];\"GET /images/NASA-logosmall.gif HTTP/1.0\";304;0',\n",
       " 'burger.letters.com;[01/Jul/1995:00:00:12 -0400];\"GET /shuttle/countdown/video/livevideo.gif HTTP/1.0\";200 0',\n",
       " '205.212.115.106;[01/Jul/1995:00:00:12 -0400];\"GET /shuttle/countdown/countdown.html HTTP/1.0\";200 3985',\n",
       " 'd104.aa.net;[01/Jul/1995:00:00:13 -0400];\"GET /shuttle/countdown/ HTTP/1.0\";200 3985',\n",
       " '129.94.144.152;[01/Jul/1995:00:00:13 -0400];\"GET / HTTP/1.0\";200 7074']"
      ]
     },
     "execution_count": 21,
     "metadata": {},
     "output_type": "execute_result"
    }
   ],
   "source": [
    "# encontrando um padrão para separar os atributos e colocando um separador\n",
    "JulRDD6 = JulRDD5.map(lambda x: x.replace ('304 ','304;'))\n",
    "JulRDD6.take(10)"
   ]
  },
  {
   "cell_type": "code",
   "execution_count": 22,
   "metadata": {},
   "outputs": [
    {
     "data": {
      "text/plain": [
       "['199.72.81.55;[01/Jul/1995:00:00:01 -0400];\"GET /history/apollo/ HTTP/1.0\";200;6245',\n",
       " 'unicomp6.unicomp.net;[01/Jul/1995:00:00:06 -0400];\"GET /shuttle/countdown/ HTTP/1.0\";200;3985',\n",
       " '199.120.110.21;[01/Jul/1995:00:00:09 -0400];\"GET /shuttle/missions/sts-73/mission-sts-73.html HTTP/1.0\";200;4085',\n",
       " 'burger.letters.com;[01/Jul/1995:00:00:11 -0400];\"GET /shuttle/countdown/liftoff.html HTTP/1.0\";304;0',\n",
       " '199.120.110.21;[01/Jul/1995:00:00:11 -0400];\"GET /shuttle/missions/sts-73/sts-73-patch-small.gif HTTP/1.0\";200;4179',\n",
       " 'burger.letters.com;[01/Jul/1995:00:00:12 -0400];\"GET /images/NASA-logosmall.gif HTTP/1.0\";304;0',\n",
       " 'burger.letters.com;[01/Jul/1995:00:00:12 -0400];\"GET /shuttle/countdown/video/livevideo.gif HTTP/1.0\";200;0',\n",
       " '205.212.115.106;[01/Jul/1995:00:00:12 -0400];\"GET /shuttle/countdown/countdown.html HTTP/1.0\";200;3985',\n",
       " 'd104.aa.net;[01/Jul/1995:00:00:13 -0400];\"GET /shuttle/countdown/ HTTP/1.0\";200;3985',\n",
       " '129.94.144.152;[01/Jul/1995:00:00:13 -0400];\"GET / HTTP/1.0\";200;7074']"
      ]
     },
     "execution_count": 22,
     "metadata": {},
     "output_type": "execute_result"
    }
   ],
   "source": [
    "# encontrando um padrão para separar os atributos e colocando um separador\n",
    "JulRDD7 = JulRDD6.map(lambda x: x.replace ('200 ','200;'))\n",
    "JulRDD7.take(10)"
   ]
  },
  {
   "cell_type": "code",
   "execution_count": 23,
   "metadata": {},
   "outputs": [
    {
     "data": {
      "text/plain": [
       "['199.72.81.55;[01/Jul/1995:00:00:01-0400];\"GET/history/apollo/HTTP/1.0\";200;6245',\n",
       " 'unicomp6.unicomp.net;[01/Jul/1995:00:00:06-0400];\"GET/shuttle/countdown/HTTP/1.0\";200;3985',\n",
       " '199.120.110.21;[01/Jul/1995:00:00:09-0400];\"GET/shuttle/missions/sts-73/mission-sts-73.htmlHTTP/1.0\";200;4085',\n",
       " 'burger.letters.com;[01/Jul/1995:00:00:11-0400];\"GET/shuttle/countdown/liftoff.htmlHTTP/1.0\";304;0',\n",
       " '199.120.110.21;[01/Jul/1995:00:00:11-0400];\"GET/shuttle/missions/sts-73/sts-73-patch-small.gifHTTP/1.0\";200;4179',\n",
       " 'burger.letters.com;[01/Jul/1995:00:00:12-0400];\"GET/images/NASA-logosmall.gifHTTP/1.0\";304;0',\n",
       " 'burger.letters.com;[01/Jul/1995:00:00:12-0400];\"GET/shuttle/countdown/video/livevideo.gifHTTP/1.0\";200;0',\n",
       " '205.212.115.106;[01/Jul/1995:00:00:12-0400];\"GET/shuttle/countdown/countdown.htmlHTTP/1.0\";200;3985',\n",
       " 'd104.aa.net;[01/Jul/1995:00:00:13-0400];\"GET/shuttle/countdown/HTTP/1.0\";200;3985',\n",
       " '129.94.144.152;[01/Jul/1995:00:00:13-0400];\"GET/HTTP/1.0\";200;7074']"
      ]
     },
     "execution_count": 23,
     "metadata": {},
     "output_type": "execute_result"
    }
   ],
   "source": [
    "# encontrando um padrão para separar os atributos e colocando um separador\n",
    "JulRDD8 = JulRDD7.map(lambda x: x.replace (' ',''))\n",
    "JulRDD8.take(10)"
   ]
  },
  {
   "cell_type": "code",
   "execution_count": 24,
   "metadata": {},
   "outputs": [
    {
     "data": {
      "text/plain": [
       "['in24.inetnebr.com;[01/Aug/1995:00:00:01 -0400] \"GET /shuttle/missions/sts-68/news/sts-68-mcc-05.txt HTTP/1.0\" 200 1839',\n",
       " 'uplherc.upl.com;[01/Aug/1995:00:00:07 -0400] \"GET / HTTP/1.0\" 304 0',\n",
       " 'uplherc.upl.com;[01/Aug/1995:00:00:08 -0400] \"GET /images/ksclogo-medium.gif HTTP/1.0\" 304 0',\n",
       " 'uplherc.upl.com;[01/Aug/1995:00:00:08 -0400] \"GET /images/MOSAIC-logosmall.gif HTTP/1.0\" 304 0',\n",
       " 'uplherc.upl.com;[01/Aug/1995:00:00:08 -0400] \"GET /images/USA-logosmall.gif HTTP/1.0\" 304 0',\n",
       " 'ix-esc-ca2-07.ix.netcom.com;[01/Aug/1995:00:00:09 -0400] \"GET /images/launch-logo.gif HTTP/1.0\" 200 1713',\n",
       " 'uplherc.upl.com;[01/Aug/1995:00:00:10 -0400] \"GET /images/WORLD-logosmall.gif HTTP/1.0\" 304 0',\n",
       " 'slppp6.intermind.net;[01/Aug/1995:00:00:10 -0400] \"GET /history/skylab/skylab.html HTTP/1.0\" 200 1687',\n",
       " 'piweba4y.prodigy.com;[01/Aug/1995:00:00:10 -0400] \"GET /images/launchmedium.gif HTTP/1.0\" 200 11853',\n",
       " 'slppp6.intermind.net;[01/Aug/1995:00:00:11 -0400] \"GET /history/skylab/skylab-small.gif HTTP/1.0\" 200 9202']"
      ]
     },
     "execution_count": 24,
     "metadata": {},
     "output_type": "execute_result"
    }
   ],
   "source": [
    "# encontrando um padrão para separar os atributos e colocando um separador\n",
    "AugRDD2 = AugRDD.map(lambda x: x.replace (\" - - \",\";\"))\n",
    "AugRDD2.take(10)"
   ]
  },
  {
   "cell_type": "code",
   "execution_count": 25,
   "metadata": {},
   "outputs": [
    {
     "data": {
      "text/plain": [
       "['in24.inetnebr.com;[01/Aug/1995:00:00:01 -0400];\"GET /shuttle/missions/sts-68/news/sts-68-mcc-05.txt HTTP/1.0\" 200 1839',\n",
       " 'uplherc.upl.com;[01/Aug/1995:00:00:07 -0400];\"GET / HTTP/1.0\" 304 0',\n",
       " 'uplherc.upl.com;[01/Aug/1995:00:00:08 -0400];\"GET /images/ksclogo-medium.gif HTTP/1.0\" 304 0',\n",
       " 'uplherc.upl.com;[01/Aug/1995:00:00:08 -0400];\"GET /images/MOSAIC-logosmall.gif HTTP/1.0\" 304 0',\n",
       " 'uplherc.upl.com;[01/Aug/1995:00:00:08 -0400];\"GET /images/USA-logosmall.gif HTTP/1.0\" 304 0',\n",
       " 'ix-esc-ca2-07.ix.netcom.com;[01/Aug/1995:00:00:09 -0400];\"GET /images/launch-logo.gif HTTP/1.0\" 200 1713',\n",
       " 'uplherc.upl.com;[01/Aug/1995:00:00:10 -0400];\"GET /images/WORLD-logosmall.gif HTTP/1.0\" 304 0',\n",
       " 'slppp6.intermind.net;[01/Aug/1995:00:00:10 -0400];\"GET /history/skylab/skylab.html HTTP/1.0\" 200 1687',\n",
       " 'piweba4y.prodigy.com;[01/Aug/1995:00:00:10 -0400];\"GET /images/launchmedium.gif HTTP/1.0\" 200 11853',\n",
       " 'slppp6.intermind.net;[01/Aug/1995:00:00:11 -0400];\"GET /history/skylab/skylab-small.gif HTTP/1.0\" 200 9202']"
      ]
     },
     "execution_count": 25,
     "metadata": {},
     "output_type": "execute_result"
    }
   ],
   "source": [
    "# encontrando um padrão para separar os atributos e colocando um separador\n",
    "AugRDD3 = AugRDD2.map(lambda x: x.replace (\"] \",\"];\"))\n",
    "AugRDD3.take(10)"
   ]
  },
  {
   "cell_type": "code",
   "execution_count": 26,
   "metadata": {},
   "outputs": [
    {
     "data": {
      "text/plain": [
       "['in24.inetnebr.com;[01/Aug/1995:00:00:01 -0400];\"GET /shuttle/missions/sts-68/news/sts-68-mcc-05.txt HTTP/1.0\";200 1839',\n",
       " 'uplherc.upl.com;[01/Aug/1995:00:00:07 -0400];\"GET / HTTP/1.0\";304 0',\n",
       " 'uplherc.upl.com;[01/Aug/1995:00:00:08 -0400];\"GET /images/ksclogo-medium.gif HTTP/1.0\";304 0',\n",
       " 'uplherc.upl.com;[01/Aug/1995:00:00:08 -0400];\"GET /images/MOSAIC-logosmall.gif HTTP/1.0\";304 0',\n",
       " 'uplherc.upl.com;[01/Aug/1995:00:00:08 -0400];\"GET /images/USA-logosmall.gif HTTP/1.0\";304 0',\n",
       " 'ix-esc-ca2-07.ix.netcom.com;[01/Aug/1995:00:00:09 -0400];\"GET /images/launch-logo.gif HTTP/1.0\";200 1713',\n",
       " 'uplherc.upl.com;[01/Aug/1995:00:00:10 -0400];\"GET /images/WORLD-logosmall.gif HTTP/1.0\";304 0',\n",
       " 'slppp6.intermind.net;[01/Aug/1995:00:00:10 -0400];\"GET /history/skylab/skylab.html HTTP/1.0\";200 1687',\n",
       " 'piweba4y.prodigy.com;[01/Aug/1995:00:00:10 -0400];\"GET /images/launchmedium.gif HTTP/1.0\";200 11853',\n",
       " 'slppp6.intermind.net;[01/Aug/1995:00:00:11 -0400];\"GET /history/skylab/skylab-small.gif HTTP/1.0\";200 9202']"
      ]
     },
     "execution_count": 26,
     "metadata": {},
     "output_type": "execute_result"
    }
   ],
   "source": [
    "# encontrando um padrão para separar os atributos e colocando um separador\n",
    "AugRDD4 = AugRDD3.map(lambda x: x.replace ('\" ','\";'))\n",
    "AugRDD4.take(10)"
   ]
  },
  {
   "cell_type": "code",
   "execution_count": 27,
   "metadata": {},
   "outputs": [
    {
     "data": {
      "text/plain": [
       "['in24.inetnebr.com;[01/Aug/1995:00:00:01 -0400];\"GET /shuttle/missions/sts-68/news/sts-68-mcc-05.txt HTTP/1.0\";200 1839',\n",
       " 'uplherc.upl.com;[01/Aug/1995:00:00:07 -0400];\"GET / HTTP/1.0\";304 0',\n",
       " 'uplherc.upl.com;[01/Aug/1995:00:00:08 -0400];\"GET /images/ksclogo-medium.gif HTTP/1.0\";304 0',\n",
       " 'uplherc.upl.com;[01/Aug/1995:00:00:08 -0400];\"GET /images/MOSAIC-logosmall.gif HTTP/1.0\";304 0',\n",
       " 'uplherc.upl.com;[01/Aug/1995:00:00:08 -0400];\"GET /images/USA-logosmall.gif HTTP/1.0\";304 0',\n",
       " 'ix-esc-ca2-07.ix.netcom.com;[01/Aug/1995:00:00:09 -0400];\"GET /images/launch-logo.gif HTTP/1.0\";200 1713',\n",
       " 'uplherc.upl.com;[01/Aug/1995:00:00:10 -0400];\"GET /images/WORLD-logosmall.gif HTTP/1.0\";304 0',\n",
       " 'slppp6.intermind.net;[01/Aug/1995:00:00:10 -0400];\"GET /history/skylab/skylab.html HTTP/1.0\";200 1687',\n",
       " 'piweba4y.prodigy.com;[01/Aug/1995:00:00:10 -0400];\"GET /images/launchmedium.gif HTTP/1.0\";200 11853',\n",
       " 'slppp6.intermind.net;[01/Aug/1995:00:00:11 -0400];\"GET /history/skylab/skylab-small.gif HTTP/1.0\";200 9202']"
      ]
     },
     "execution_count": 27,
     "metadata": {},
     "output_type": "execute_result"
    }
   ],
   "source": [
    "# encontrando um padrão para separar os atributos e colocando um separador\n",
    "AugRDD5 = AugRDD4.map(lambda x: x.replace ('404 -','404;'))\n",
    "AugRDD5.take(10)"
   ]
  },
  {
   "cell_type": "code",
   "execution_count": 28,
   "metadata": {},
   "outputs": [
    {
     "data": {
      "text/plain": [
       "['in24.inetnebr.com;[01/Aug/1995:00:00:01 -0400];\"GET /shuttle/missions/sts-68/news/sts-68-mcc-05.txt HTTP/1.0\";200 1839',\n",
       " 'uplherc.upl.com;[01/Aug/1995:00:00:07 -0400];\"GET / HTTP/1.0\";304;0',\n",
       " 'uplherc.upl.com;[01/Aug/1995:00:00:08 -0400];\"GET /images/ksclogo-medium.gif HTTP/1.0\";304;0',\n",
       " 'uplherc.upl.com;[01/Aug/1995:00:00:08 -0400];\"GET /images/MOSAIC-logosmall.gif HTTP/1.0\";304;0',\n",
       " 'uplherc.upl.com;[01/Aug/1995:00:00:08 -0400];\"GET /images/USA-logosmall.gif HTTP/1.0\";304;0',\n",
       " 'ix-esc-ca2-07.ix.netcom.com;[01/Aug/1995:00:00:09 -0400];\"GET /images/launch-logo.gif HTTP/1.0\";200 1713',\n",
       " 'uplherc.upl.com;[01/Aug/1995:00:00:10 -0400];\"GET /images/WORLD-logosmall.gif HTTP/1.0\";304;0',\n",
       " 'slppp6.intermind.net;[01/Aug/1995:00:00:10 -0400];\"GET /history/skylab/skylab.html HTTP/1.0\";200 1687',\n",
       " 'piweba4y.prodigy.com;[01/Aug/1995:00:00:10 -0400];\"GET /images/launchmedium.gif HTTP/1.0\";200 11853',\n",
       " 'slppp6.intermind.net;[01/Aug/1995:00:00:11 -0400];\"GET /history/skylab/skylab-small.gif HTTP/1.0\";200 9202']"
      ]
     },
     "execution_count": 28,
     "metadata": {},
     "output_type": "execute_result"
    }
   ],
   "source": [
    "# encontrando um padrão para separar os atributos e colocando um separador\n",
    "AugRDD6 = AugRDD5.map(lambda x: x.replace ('304 ','304;'))\n",
    "AugRDD6.take(10)"
   ]
  },
  {
   "cell_type": "code",
   "execution_count": 29,
   "metadata": {},
   "outputs": [
    {
     "data": {
      "text/plain": [
       "['in24.inetnebr.com;[01/Aug/1995:00:00:01 -0400];\"GET /shuttle/missions/sts-68/news/sts-68-mcc-05.txt HTTP/1.0\";200;1839',\n",
       " 'uplherc.upl.com;[01/Aug/1995:00:00:07 -0400];\"GET / HTTP/1.0\";304;0',\n",
       " 'uplherc.upl.com;[01/Aug/1995:00:00:08 -0400];\"GET /images/ksclogo-medium.gif HTTP/1.0\";304;0',\n",
       " 'uplherc.upl.com;[01/Aug/1995:00:00:08 -0400];\"GET /images/MOSAIC-logosmall.gif HTTP/1.0\";304;0',\n",
       " 'uplherc.upl.com;[01/Aug/1995:00:00:08 -0400];\"GET /images/USA-logosmall.gif HTTP/1.0\";304;0',\n",
       " 'ix-esc-ca2-07.ix.netcom.com;[01/Aug/1995:00:00:09 -0400];\"GET /images/launch-logo.gif HTTP/1.0\";200;1713',\n",
       " 'uplherc.upl.com;[01/Aug/1995:00:00:10 -0400];\"GET /images/WORLD-logosmall.gif HTTP/1.0\";304;0',\n",
       " 'slppp6.intermind.net;[01/Aug/1995:00:00:10 -0400];\"GET /history/skylab/skylab.html HTTP/1.0\";200;1687',\n",
       " 'piweba4y.prodigy.com;[01/Aug/1995:00:00:10 -0400];\"GET /images/launchmedium.gif HTTP/1.0\";200;11853',\n",
       " 'slppp6.intermind.net;[01/Aug/1995:00:00:11 -0400];\"GET /history/skylab/skylab-small.gif HTTP/1.0\";200;9202']"
      ]
     },
     "execution_count": 29,
     "metadata": {},
     "output_type": "execute_result"
    }
   ],
   "source": [
    "# encontrando um padrão para separar os atributos e colocando um separador\n",
    "AugRDD7 = AugRDD6.map(lambda x: x.replace ('200 ','200;'))\n",
    "AugRDD7.take(10)"
   ]
  },
  {
   "cell_type": "code",
   "execution_count": 30,
   "metadata": {},
   "outputs": [
    {
     "data": {
      "text/plain": [
       "['in24.inetnebr.com;[01/Aug/1995:00:00:01-0400];\"GET/shuttle/missions/sts-68/news/sts-68-mcc-05.txtHTTP/1.0\";200;1839',\n",
       " 'uplherc.upl.com;[01/Aug/1995:00:00:07-0400];\"GET/HTTP/1.0\";304;0',\n",
       " 'uplherc.upl.com;[01/Aug/1995:00:00:08-0400];\"GET/images/ksclogo-medium.gifHTTP/1.0\";304;0',\n",
       " 'uplherc.upl.com;[01/Aug/1995:00:00:08-0400];\"GET/images/MOSAIC-logosmall.gifHTTP/1.0\";304;0',\n",
       " 'uplherc.upl.com;[01/Aug/1995:00:00:08-0400];\"GET/images/USA-logosmall.gifHTTP/1.0\";304;0',\n",
       " 'ix-esc-ca2-07.ix.netcom.com;[01/Aug/1995:00:00:09-0400];\"GET/images/launch-logo.gifHTTP/1.0\";200;1713',\n",
       " 'uplherc.upl.com;[01/Aug/1995:00:00:10-0400];\"GET/images/WORLD-logosmall.gifHTTP/1.0\";304;0',\n",
       " 'slppp6.intermind.net;[01/Aug/1995:00:00:10-0400];\"GET/history/skylab/skylab.htmlHTTP/1.0\";200;1687',\n",
       " 'piweba4y.prodigy.com;[01/Aug/1995:00:00:10-0400];\"GET/images/launchmedium.gifHTTP/1.0\";200;11853',\n",
       " 'slppp6.intermind.net;[01/Aug/1995:00:00:11-0400];\"GET/history/skylab/skylab-small.gifHTTP/1.0\";200;9202']"
      ]
     },
     "execution_count": 30,
     "metadata": {},
     "output_type": "execute_result"
    }
   ],
   "source": [
    "# encontrando um padrão para separar os atributos e colocando um separador\n",
    "AugRDD8 = AugRDD7.map(lambda x: x.replace (' ',''))\n",
    "AugRDD8.take(10)"
   ]
  },
  {
   "cell_type": "code",
   "execution_count": 31,
   "metadata": {},
   "outputs": [],
   "source": [
    "# Dividindo o arquivo em colunas\n",
    "JulRDD9 = JulRDD8.map(lambda line: line.split(\";\"))"
   ]
  },
  {
   "cell_type": "code",
   "execution_count": 32,
   "metadata": {},
   "outputs": [],
   "source": [
    "# Dividindo o arquivo em colunas\n",
    "AugRDD9 = AugRDD8.map(lambda line: line.split(\";\"))"
   ]
  },
  {
   "cell_type": "code",
   "execution_count": 33,
   "metadata": {},
   "outputs": [
    {
     "data": {
      "text/plain": [
       "pyspark.rdd.PipelinedRDD"
      ]
     },
     "execution_count": 33,
     "metadata": {},
     "output_type": "execute_result"
    }
   ],
   "source": [
    "# verificando o tipo de dado\n",
    "type(JulRDD9)"
   ]
  },
  {
   "cell_type": "code",
   "execution_count": 34,
   "metadata": {},
   "outputs": [
    {
     "data": {
      "text/plain": [
       "pyspark.rdd.PipelinedRDD"
      ]
     },
     "execution_count": 34,
     "metadata": {},
     "output_type": "execute_result"
    }
   ],
   "source": [
    "# verificando o tipo de dado\n",
    "type(AugRDD9)"
   ]
  },
  {
   "cell_type": "markdown",
   "metadata": {},
   "source": [
    "### Respondendo as Questões"
   ]
  },
  {
   "cell_type": "markdown",
   "metadata": {},
   "source": [
    "### 1. Número de hosts únicos."
   ]
  },
  {
   "cell_type": "code",
   "execution_count": 35,
   "metadata": {},
   "outputs": [
    {
     "data": {
      "text/plain": [
       "81983"
      ]
     },
     "execution_count": 35,
     "metadata": {},
     "output_type": "execute_result"
    }
   ],
   "source": [
    "JulRDD9.map(lambda linha: linha[0]).distinct().count()"
   ]
  },
  {
   "cell_type": "code",
   "execution_count": 36,
   "metadata": {},
   "outputs": [
    {
     "data": {
      "text/plain": [
       "75060"
      ]
     },
     "execution_count": 36,
     "metadata": {},
     "output_type": "execute_result"
    }
   ],
   "source": [
    "AugRDD9.map(lambda linha: linha[0]).distinct().count()"
   ]
  },
  {
   "cell_type": "markdown",
   "metadata": {},
   "source": [
    "### 2. O total de erros 404."
   ]
  },
  {
   "cell_type": "code",
   "execution_count": 37,
   "metadata": {},
   "outputs": [
    {
     "data": {
      "text/plain": [
       "10847"
      ]
     },
     "execution_count": 37,
     "metadata": {},
     "output_type": "execute_result"
    }
   ],
   "source": [
    "JulRDD9.filter(lambda linha: '404' in linha).count()"
   ]
  },
  {
   "cell_type": "code",
   "execution_count": 38,
   "metadata": {},
   "outputs": [
    {
     "data": {
      "text/plain": [
       "10058"
      ]
     },
     "execution_count": 38,
     "metadata": {},
     "output_type": "execute_result"
    }
   ],
   "source": [
    "AugRDD9.filter(lambda linha: '404' in linha).count()"
   ]
  },
  {
   "cell_type": "markdown",
   "metadata": {},
   "source": [
    "### 3. Os 5 URLs que mais causaram erro 404."
   ]
  },
  {
   "cell_type": "code",
   "execution_count": 39,
   "metadata": {},
   "outputs": [],
   "source": [
    "# criando um dataframe\n",
    "dfAu = spark.createDataFrame(AugRDD9)"
   ]
  },
  {
   "cell_type": "code",
   "execution_count": 40,
   "metadata": {},
   "outputs": [],
   "source": [
    "# criando um dataframe\n",
    "dfJu = spark.createDataFrame(JulRDD9)"
   ]
  },
  {
   "cell_type": "code",
   "execution_count": 41,
   "metadata": {},
   "outputs": [],
   "source": [
    "# importando SparkSql\n",
    "from pyspark.sql.functions import *\n",
    "import pyspark.sql\n",
    "from pyspark.sql.types import IntegerType"
   ]
  },
  {
   "cell_type": "code",
   "execution_count": 42,
   "metadata": {},
   "outputs": [
    {
     "name": "stdout",
     "output_type": "stream",
     "text": [
      "+--------------------+--------------------+--------------------+-------+-----+\n",
      "|                Host|           Timestamp|          Requisicao|retorno|bytes|\n",
      "+--------------------+--------------------+--------------------+-------+-----+\n",
      "|   in24.inetnebr.com|[01/Aug/1995:00:0...|\"GET/shuttle/miss...|    200| 1839|\n",
      "|     uplherc.upl.com|[01/Aug/1995:00:0...|      \"GET/HTTP/1.0\"|    304|    0|\n",
      "|     uplherc.upl.com|[01/Aug/1995:00:0...|\"GET/images/ksclo...|    304|    0|\n",
      "|     uplherc.upl.com|[01/Aug/1995:00:0...|\"GET/images/MOSAI...|    304|    0|\n",
      "|     uplherc.upl.com|[01/Aug/1995:00:0...|\"GET/images/USA-l...|    304|    0|\n",
      "|ix-esc-ca2-07.ix....|[01/Aug/1995:00:0...|\"GET/images/launc...|    200| 1713|\n",
      "|     uplherc.upl.com|[01/Aug/1995:00:0...|\"GET/images/WORLD...|    304|    0|\n",
      "|slppp6.intermind.net|[01/Aug/1995:00:0...|\"GET/history/skyl...|    200| 1687|\n",
      "|piweba4y.prodigy.com|[01/Aug/1995:00:0...|\"GET/images/launc...|    200|11853|\n",
      "|slppp6.intermind.net|[01/Aug/1995:00:0...|\"GET/history/skyl...|    200| 9202|\n",
      "|slppp6.intermind.net|[01/Aug/1995:00:0...|\"GET/images/ksclo...|    200| 3635|\n",
      "|ix-esc-ca2-07.ix....|[01/Aug/1995:00:0...|\"GET/history/apol...|    200| 1173|\n",
      "|slppp6.intermind.net|[01/Aug/1995:00:0...|\"GET/history/apol...|    200| 3047|\n",
      "|     uplherc.upl.com|[01/Aug/1995:00:0...|\"GET/images/NASA-...|    304|    0|\n",
      "|        133.43.96.45|[01/Aug/1995:00:0...|\"GET/shuttle/miss...|    200|10566|\n",
      "|kgtyk4.kj.yamagat...|[01/Aug/1995:00:0...|      \"GET/HTTP/1.0\"|    200| 7280|\n",
      "|kgtyk4.kj.yamagat...|[01/Aug/1995:00:0...|\"GET/images/ksclo...|    200| 5866|\n",
      "|     d0ucr6.fnal.gov|[01/Aug/1995:00:0...|\"GET/history/apol...|    200| 2743|\n",
      "|ix-esc-ca2-07.ix....|[01/Aug/1995:00:0...|\"GET/shuttle/reso...|    200| 6849|\n",
      "|     d0ucr6.fnal.gov|[01/Aug/1995:00:0...|\"GET/history/apol...|    200|14897|\n",
      "+--------------------+--------------------+--------------------+-------+-----+\n",
      "only showing top 20 rows\n",
      "\n"
     ]
    }
   ],
   "source": [
    "# renomeando as colunas\n",
    "dfAu = dfAu.select(col(\"_1\").alias(\"Host\"), col(\"_2\").alias(\"Timestamp\"),col(\"_3\").alias(\"Requisicao\"),col(\"_4\").alias(\"retorno\"),col(\"_5\").alias(\"bytes\"))\n",
    "dfAu.show()"
   ]
  },
  {
   "cell_type": "code",
   "execution_count": 43,
   "metadata": {},
   "outputs": [
    {
     "name": "stdout",
     "output_type": "stream",
     "text": [
      "+--------------------+--------------------+--------------------+-------+-----+\n",
      "|                Host|           Timestamp|          Requisicao|retorno|bytes|\n",
      "+--------------------+--------------------+--------------------+-------+-----+\n",
      "|        199.72.81.55|[01/Jul/1995:00:0...|\"GET/history/apol...|    200| 6245|\n",
      "|unicomp6.unicomp.net|[01/Jul/1995:00:0...|\"GET/shuttle/coun...|    200| 3985|\n",
      "|      199.120.110.21|[01/Jul/1995:00:0...|\"GET/shuttle/miss...|    200| 4085|\n",
      "|  burger.letters.com|[01/Jul/1995:00:0...|\"GET/shuttle/coun...|    304|    0|\n",
      "|      199.120.110.21|[01/Jul/1995:00:0...|\"GET/shuttle/miss...|    200| 4179|\n",
      "|  burger.letters.com|[01/Jul/1995:00:0...|\"GET/images/NASA-...|    304|    0|\n",
      "|  burger.letters.com|[01/Jul/1995:00:0...|\"GET/shuttle/coun...|    200|    0|\n",
      "|     205.212.115.106|[01/Jul/1995:00:0...|\"GET/shuttle/coun...|    200| 3985|\n",
      "|         d104.aa.net|[01/Jul/1995:00:0...|\"GET/shuttle/coun...|    200| 3985|\n",
      "|      129.94.144.152|[01/Jul/1995:00:0...|      \"GET/HTTP/1.0\"|    200| 7074|\n",
      "|unicomp6.unicomp.net|[01/Jul/1995:00:0...|\"GET/shuttle/coun...|    200|40310|\n",
      "|unicomp6.unicomp.net|[01/Jul/1995:00:0...|\"GET/images/NASA-...|    200|  786|\n",
      "|unicomp6.unicomp.net|[01/Jul/1995:00:0...|\"GET/images/KSC-l...|    200| 1204|\n",
      "|         d104.aa.net|[01/Jul/1995:00:0...|\"GET/shuttle/coun...|    200|40310|\n",
      "|         d104.aa.net|[01/Jul/1995:00:0...|\"GET/images/NASA-...|    200|  786|\n",
      "|         d104.aa.net|[01/Jul/1995:00:0...|\"GET/images/KSC-l...|    200| 1204|\n",
      "|      129.94.144.152|[01/Jul/1995:00:0...|\"GET/images/ksclo...|    304|    0|\n",
      "|      199.120.110.21|[01/Jul/1995:00:0...|\"GET/images/launc...|    200| 1713|\n",
      "|ppptky391.asahi-n...|[01/Jul/1995:00:0...|\"GET/facts/about_...|    200| 3977|\n",
      "|  net-1-141.eden.com|[01/Jul/1995:00:0...|\"GET/shuttle/miss...|    200|34029|\n",
      "+--------------------+--------------------+--------------------+-------+-----+\n",
      "only showing top 20 rows\n",
      "\n"
     ]
    }
   ],
   "source": [
    "# renomeando as colunas\n",
    "dfJu = dfJu.select(col(\"_1\").alias(\"Host\"), col(\"_2\").alias(\"Timestamp\"),col(\"_3\").alias(\"Requisicao\"),col(\"_4\").alias(\"retorno\"),col(\"_5\").alias(\"bytes\"))\n",
    "dfJu.show()"
   ]
  },
  {
   "cell_type": "code",
   "execution_count": 44,
   "metadata": {},
   "outputs": [],
   "source": [
    "# convertente em uma tabela temporaria para poder usar a instrução SQL\n",
    "dfJu.createOrReplaceTempView('temp_Ju')"
   ]
  },
  {
   "cell_type": "code",
   "execution_count": 45,
   "metadata": {},
   "outputs": [],
   "source": [
    "dfAu.createOrReplaceTempView('temp_Au')"
   ]
  },
  {
   "cell_type": "code",
   "execution_count": 65,
   "metadata": {},
   "outputs": [
    {
     "name": "stdout",
     "output_type": "stream",
     "text": [
      "+----+-------+---+\n",
      "|Host|retorno|qtd|\n",
      "+----+-------+---+\n",
      "+----+-------+---+\n",
      "\n"
     ]
    }
   ],
   "source": [
    "spSession.sql(\"select Host,retorno, count(retorno)as qtd from temp_Au group by Host,retorno having count() order by qtd desc \").show()"
   ]
  },
  {
   "cell_type": "code",
   "execution_count": 68,
   "metadata": {},
   "outputs": [
    {
     "name": "stdout",
     "output_type": "stream",
     "text": [
      "+----+-------+---+\n",
      "|Host|retorno|qtd|\n",
      "+----+-------+---+\n",
      "+----+-------+---+\n",
      "\n"
     ]
    }
   ],
   "source": [
    "spSession.sql(\"select Host,retorno, count(retorno)as qtd from temp_Ju group by Host,retorno having count() order by qtd desc \").show()"
   ]
  },
  {
   "cell_type": "markdown",
   "metadata": {},
   "source": [
    "### 5. O total de bytes retornados"
   ]
  },
  {
   "cell_type": "code",
   "execution_count": 69,
   "metadata": {},
   "outputs": [
    {
     "name": "stdout",
     "output_type": "stream",
     "text": [
      "+-----+----+\n",
      "|bytes|soma|\n",
      "+-----+----+\n",
      "+-----+----+\n",
      "\n"
     ]
    }
   ],
   "source": [
    "spSession.sql(\"select bytes, sum(bytes) soma from temp_Au group by bytes having count()\").show()"
   ]
  },
  {
   "cell_type": "code",
   "execution_count": 70,
   "metadata": {},
   "outputs": [
    {
     "name": "stdout",
     "output_type": "stream",
     "text": [
      "+-----+----+\n",
      "|bytes|soma|\n",
      "+-----+----+\n",
      "+-----+----+\n",
      "\n"
     ]
    }
   ],
   "source": [
    "spSession.sql(\"select bytes, sum(bytes) soma from temp_Ju group by bytes having count()\").show()"
   ]
  },
  {
   "cell_type": "code",
   "execution_count": null,
   "metadata": {},
   "outputs": [],
   "source": []
  }
 ],
 "metadata": {
  "kernelspec": {
   "display_name": "Python 3",
   "language": "python",
   "name": "python3"
  },
  "language_info": {
   "codemirror_mode": {
    "name": "ipython",
    "version": 3
   },
   "file_extension": ".py",
   "mimetype": "text/x-python",
   "name": "python",
   "nbconvert_exporter": "python",
   "pygments_lexer": "ipython3",
   "version": "3.6.5"
  }
 },
 "nbformat": 4,
 "nbformat_minor": 2
}
